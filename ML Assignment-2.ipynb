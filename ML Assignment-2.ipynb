{
 "cells": [
  {
   "cell_type": "code",
   "execution_count": 1,
   "id": "8a6e8eb5",
   "metadata": {},
   "outputs": [
    {
     "name": "stdout",
     "output_type": "stream",
     "text": [
      " * \n",
      " *  * \n",
      " *  *  * \n",
      " *  *  *  * \n",
      " *  *  *  *  * \n",
      " *  *  *  * \n",
      " *  *  * \n",
      " *  * \n",
      " * \n"
     ]
    }
   ],
   "source": [
    "#Question 1\n",
    "\n",
    "def pattern(n):\n",
    "    \n",
    "    for i in range (1, n+1):\n",
    "        for j in range (1, i+1):\n",
    "            print (\" *\",end=\" \")\n",
    "        print()\n",
    "     \n",
    "    for i in range (n, 1, -1):\n",
    "            for j in range (i, 1, -1):\n",
    "                print (\" *\",end=\" \")\n",
    "            print()    \n",
    "pattern(5)"
   ]
  },
  {
   "cell_type": "code",
   "execution_count": 3,
   "id": "597c5633",
   "metadata": {},
   "outputs": [
    {
     "data": {
      "text/plain": [
       "[10, 30, 50, 70, 90]"
      ]
     },
     "execution_count": 3,
     "metadata": {},
     "output_type": "execute_result"
    }
   ],
   "source": [
    "#Question 2\n",
    "\n",
    "my_list = [10, 20, 30, 40, 50, 60, 70, 80, 90, 100]\n",
    "my_list[::2]"
   ]
  },
  {
   "cell_type": "code",
   "execution_count": 4,
   "id": "3906eb09",
   "metadata": {},
   "outputs": [
    {
     "name": "stdout",
     "output_type": "stream",
     "text": [
      "[23, 'Python', 23.98]\n",
      "<class 'int'> <class 'str'> <class 'float'>\n"
     ]
    }
   ],
   "source": [
    "#Question 3\n",
    "\n",
    "n = [23, 'Python', 23.98]\n",
    "m=n\n",
    "print(m)\n",
    "print(type(n[0]),type(n[1]),type(n[2]))"
   ]
  },
  {
   "cell_type": "code",
   "execution_count": 2,
   "id": "81a28ace",
   "metadata": {},
   "outputs": [
    {
     "name": "stdout",
     "output_type": "stream",
     "text": [
      "[1, 2, 3, 4, 5]\n"
     ]
    }
   ],
   "source": [
    "#Question 4\n",
    "\n",
    "d = [1,2,3,3,3,3,4,5]\n",
    "output = []\n",
    "for x in d:\n",
    "    if x not in output:\n",
    "        output.append(x)\n",
    "print(output)"
   ]
  },
  {
   "cell_type": "code",
   "execution_count": 5,
   "id": "27c529aa",
   "metadata": {},
   "outputs": [
    {
     "name": "stdout",
     "output_type": "stream",
     "text": [
      "No. of Upper-case characters: 3\n",
      "No. of Lower-case Characters: 12\n"
     ]
    }
   ],
   "source": [
    "#Question 5\n",
    "\n",
    "b='The quick Brow Fox'\n",
    "a=sum(1 for c in b if c.isupper())\n",
    "print(\"No. of Upper-case characters:\",a)\n",
    "c=sum(1 for c in b if c.islower())\n",
    "print(\"No. of Lower-case Characters:\",c)"
   ]
  },
  {
   "cell_type": "code",
   "execution_count": null,
   "id": "af96a512",
   "metadata": {},
   "outputs": [],
   "source": []
  }
 ],
 "metadata": {
  "kernelspec": {
   "display_name": "Python 3 (ipykernel)",
   "language": "python",
   "name": "python3"
  },
  "language_info": {
   "codemirror_mode": {
    "name": "ipython",
    "version": 3
   },
   "file_extension": ".py",
   "mimetype": "text/x-python",
   "name": "python",
   "nbconvert_exporter": "python",
   "pygments_lexer": "ipython3",
   "version": "3.9.13"
  }
 },
 "nbformat": 4,
 "nbformat_minor": 5
}
